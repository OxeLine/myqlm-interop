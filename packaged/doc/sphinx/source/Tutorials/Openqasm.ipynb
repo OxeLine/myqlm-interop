{
 "cells": [
  {
   "cell_type": "markdown",
   "metadata": {},
   "source": [
    "# Openqasm Tutorials\n",
    "\n",
    "An openqasm compiler called `oqasm2circ` that compiles openqasm code into a QLM circuit, then dumps it in a file.\n",
    "\n",
    "A few examples are available, to compile an openqasm `.qasm` file use the following command:\n"
   ]
  },
  {
   "cell_type": "code",
   "execution_count": 6,
   "metadata": {},
   "outputs": [
    {
     "name": "stdout",
     "output_type": "stream",
     "text": [
      "usage: oqasm2circ [-h] [--full-matrices] OQASM_FILE [OUTFILE]\r\n",
      "\r\n",
      "Compiles an OQASM file into a circuit file.\r\n",
      "\r\n",
      "positional arguments:\r\n",
      "  OQASM_FILE       Filename containning the OPENQASM circuit to be compiled\r\n",
      "  OUTFILE          Output file receiving the compiled circuit\r\n",
      "\r\n",
      "optional arguments:\r\n",
      "  -h, --help       show this help message and exit\r\n",
      "  --full-matrices  Tells the compiler to generate and include the full\r\n",
      "                   matrices of each gate. Notice that this can lead to larger\r\n",
      "                   .circ files and longer compilation time.\r\n"
     ]
    }
   ],
   "source": [
    "!oqasm2circ --help"
   ]
  },
  {
   "cell_type": "code",
   "execution_count": 4,
   "metadata": {},
   "outputs": [],
   "source": [
    "!oqasm2circ /home/reda/bsm/openqlm-interop/packaged/lib/qat/interop/openqasm/examples/inverseqft1.qasm inverseqft1.circ"
   ]
  },
  {
   "cell_type": "code",
   "execution_count": 5,
   "metadata": {},
   "outputs": [
    {
     "name": "stdout",
     "output_type": "stream",
     "text": [
      "----------Executing File /mnt/raid6/wip/reda/bsm/openqlm-interop/packaged/lib/qat/interop/openqasm/examples/adder_demo.qasm ----------------\n",
      "----------Executing File /mnt/raid6/wip/reda/bsm/openqlm-interop/packaged/lib/qat/interop/openqasm/examples/adder.qasm ----------------\n",
      "----------Executing File /mnt/raid6/wip/reda/bsm/openqlm-interop/packaged/lib/qat/interop/openqasm/examples/bigadder.qasm ----------------\n",
      "----------Executing File /mnt/raid6/wip/reda/bsm/openqlm-interop/packaged/lib/qat/interop/openqasm/examples/CircuitWithUGates_25qubits_2500Gates0.qasm ----------------\n",
      "----------Executing File /mnt/raid6/wip/reda/bsm/openqlm-interop/packaged/lib/qat/interop/openqasm/examples/CircuitWithUGates_25qubits_2500Gates1.qasm ----------------\n",
      "----------Executing File /mnt/raid6/wip/reda/bsm/openqlm-interop/packaged/lib/qat/interop/openqasm/examples/CircuitWithUGates_25qubits_2500Gates2.qasm ----------------\n",
      "----------Executing File /mnt/raid6/wip/reda/bsm/openqlm-interop/packaged/lib/qat/interop/openqasm/examples/inverseqft1_demo.qasm ----------------\n",
      "----------Executing File /mnt/raid6/wip/reda/bsm/openqlm-interop/packaged/lib/qat/interop/openqasm/examples/inverseqft1.qasm ----------------\n",
      "----------Executing File /mnt/raid6/wip/reda/bsm/openqlm-interop/packaged/lib/qat/interop/openqasm/examples/inverseqft2_demo.qasm ----------------\n",
      "----------Executing File /mnt/raid6/wip/reda/bsm/openqlm-interop/packaged/lib/qat/interop/openqasm/examples/inverseqft2.qasm ----------------\n",
      "----------Executing File /mnt/raid6/wip/reda/bsm/openqlm-interop/packaged/lib/qat/interop/openqasm/examples/ipea_3_pi_8.qasm ----------------\n",
      "----------Executing File /mnt/raid6/wip/reda/bsm/openqlm-interop/packaged/lib/qat/interop/openqasm/examples/pea_3_pi_8.qasm ----------------\n",
      "----------Executing File /mnt/raid6/wip/reda/bsm/openqlm-interop/packaged/lib/qat/interop/openqasm/examples/qec.qasm ----------------\n",
      "----------Executing File /mnt/raid6/wip/reda/bsm/openqlm-interop/packaged/lib/qat/interop/openqasm/examples/qft_demo.qasm ----------------\n",
      "----------Executing File /mnt/raid6/wip/reda/bsm/openqlm-interop/packaged/lib/qat/interop/openqasm/examples/qft.qasm ----------------\n",
      "----------Executing File /mnt/raid6/wip/reda/bsm/openqlm-interop/packaged/lib/qat/interop/openqasm/examples/qpt.qasm ----------------\n",
      "----------Executing File /mnt/raid6/wip/reda/bsm/openqlm-interop/packaged/lib/qat/interop/openqasm/examples/rb.qasm ----------------\n",
      "----------Executing File /mnt/raid6/wip/reda/bsm/openqlm-interop/packaged/lib/qat/interop/openqasm/examples/teleport.qasm ----------------\n",
      "----------Executing File /mnt/raid6/wip/reda/bsm/openqlm-interop/packaged/lib/qat/interop/openqasm/examples/teleportv2.qasm ----------------\n",
      "----------Executing File /mnt/raid6/wip/reda/bsm/openqlm-interop/packaged/lib/qat/interop/openqasm/examples/test.qasm ----------------\n",
      "----------Executing File /mnt/raid6/wip/reda/bsm/openqlm-interop/packaged/lib/qat/interop/openqasm/examples/W-state.qasm ----------------\n"
     ]
    }
   ],
   "source": [
    "!/home/reda/bsm/openqlm-interop/packaged/lib/qat/interop/openqasm/examples/compile_oqasm_examples.sh"
   ]
  }
 ],
 "metadata": {
  "kernelspec": {
   "display_name": "Python 3",
   "language": "python",
   "name": "python3"
  },
  "language_info": {
   "codemirror_mode": {
    "name": "ipython",
    "version": 3
   },
   "file_extension": ".py",
   "mimetype": "text/x-python",
   "name": "python",
   "nbconvert_exporter": "python",
   "pygments_lexer": "ipython3",
   "version": "3.6.8"
  }
 },
 "nbformat": 4,
 "nbformat_minor": 2
}
