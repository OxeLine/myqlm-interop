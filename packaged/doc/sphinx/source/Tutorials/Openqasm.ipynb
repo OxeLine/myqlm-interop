{
 "cells": [
  {
   "cell_type": "markdown",
   "metadata": {},
   "source": [
    "# Openqasm Tutorials\n",
    "\n",
    "An openqasm compiler called `oqasm2circ` that compiles openqasm code into a QLM circuit, then dumps it in a file.\n",
    "\n",
    "A few examples are available, to compile an openqasm `.qasm` file use the following command:\n"
   ]
  },
  {
   "cell_type": "code",
   "execution_count": 1,
   "metadata": {},
   "outputs": [
    {
     "name": "stdout",
     "output_type": "stream",
     "text": [
      "usage: oqasm2circ [-h] [--full-matrices] OQASM_FILE [OUTFILE]\r\n",
      "\r\n",
      "Compiles an OQASM file into a circuit file.\r\n",
      "\r\n",
      "positional arguments:\r\n",
      "  OQASM_FILE       Filename containning the OPENQASM circuit to be compiled\r\n",
      "  OUTFILE          Output file receiving the compiled circuit\r\n",
      "\r\n",
      "optional arguments:\r\n",
      "  -h, --help       show this help message and exit\r\n",
      "  --full-matrices  Tells the compiler to generate and include the full\r\n",
      "                   matrices of each gate. Notice that this can lead to larger\r\n",
      "                   .circ files and longer compilation time.\r\n"
     ]
    }
   ],
   "source": [
    "!oqasm2circ --help"
   ]
  },
  {
   "cell_type": "code",
   "execution_count": 2,
   "metadata": {},
   "outputs": [],
   "source": [
    "!oqasm2circ /home/reda/bsm/openqlm-interop/packaged/lib/qat/interop/openqasm/examples/inverseqft1.qasm inverseqft1.circ"
   ]
  },
  {
   "cell_type": "code",
   "execution_count": 3,
   "metadata": {},
   "outputs": [
    {
     "name": "stdout",
     "output_type": "stream",
     "text": [
      "----------Executing File /mnt/raid6/wip/reda/bsm/openqlm-interop/packaged/lib/qat/interop/openqasm/examples/adder_demo.qasm ----------------\n",
      "----------Executing File /mnt/raid6/wip/reda/bsm/openqlm-interop/packaged/lib/qat/interop/openqasm/examples/adder.qasm ----------------\n",
      "----------Executing File /mnt/raid6/wip/reda/bsm/openqlm-interop/packaged/lib/qat/interop/openqasm/examples/bigadder.qasm ----------------\n",
      "----------Executing File /mnt/raid6/wip/reda/bsm/openqlm-interop/packaged/lib/qat/interop/openqasm/examples/CircuitWithUGates_25qubits_2500Gates0.qasm ----------------\n",
      "----------Executing File /mnt/raid6/wip/reda/bsm/openqlm-interop/packaged/lib/qat/interop/openqasm/examples/CircuitWithUGates_25qubits_2500Gates1.qasm ----------------\n",
      "----------Executing File /mnt/raid6/wip/reda/bsm/openqlm-interop/packaged/lib/qat/interop/openqasm/examples/CircuitWithUGates_25qubits_2500Gates2.qasm ----------------\n",
      "----------Executing File /mnt/raid6/wip/reda/bsm/openqlm-interop/packaged/lib/qat/interop/openqasm/examples/inverseqft1_demo.qasm ----------------\n",
      "----------Executing File /mnt/raid6/wip/reda/bsm/openqlm-interop/packaged/lib/qat/interop/openqasm/examples/inverseqft1.qasm ----------------\n",
      "----------Executing File /mnt/raid6/wip/reda/bsm/openqlm-interop/packaged/lib/qat/interop/openqasm/examples/inverseqft2_demo.qasm ----------------\n",
      "----------Executing File /mnt/raid6/wip/reda/bsm/openqlm-interop/packaged/lib/qat/interop/openqasm/examples/inverseqft2.qasm ----------------\n",
      "----------Executing File /mnt/raid6/wip/reda/bsm/openqlm-interop/packaged/lib/qat/interop/openqasm/examples/ipea_3_pi_8.qasm ----------------\n",
      "----------Executing File /mnt/raid6/wip/reda/bsm/openqlm-interop/packaged/lib/qat/interop/openqasm/examples/pea_3_pi_8.qasm ----------------\n",
      "----------Executing File /mnt/raid6/wip/reda/bsm/openqlm-interop/packaged/lib/qat/interop/openqasm/examples/qec.qasm ----------------\n",
      "----------Executing File /mnt/raid6/wip/reda/bsm/openqlm-interop/packaged/lib/qat/interop/openqasm/examples/qft_demo.qasm ----------------\n",
      "----------Executing File /mnt/raid6/wip/reda/bsm/openqlm-interop/packaged/lib/qat/interop/openqasm/examples/qft.qasm ----------------\n",
      "----------Executing File /mnt/raid6/wip/reda/bsm/openqlm-interop/packaged/lib/qat/interop/openqasm/examples/qpt.qasm ----------------\n",
      "----------Executing File /mnt/raid6/wip/reda/bsm/openqlm-interop/packaged/lib/qat/interop/openqasm/examples/rb.qasm ----------------\n",
      "----------Executing File /mnt/raid6/wip/reda/bsm/openqlm-interop/packaged/lib/qat/interop/openqasm/examples/teleport.qasm ----------------\n",
      "----------Executing File /mnt/raid6/wip/reda/bsm/openqlm-interop/packaged/lib/qat/interop/openqasm/examples/teleportv2.qasm ----------------\n",
      "----------Executing File /mnt/raid6/wip/reda/bsm/openqlm-interop/packaged/lib/qat/interop/openqasm/examples/test.qasm ----------------\n",
      "----------Executing File /mnt/raid6/wip/reda/bsm/openqlm-interop/packaged/lib/qat/interop/openqasm/examples/W-state.qasm ----------------\n"
     ]
    }
   ],
   "source": [
    "!/home/reda/bsm/openqlm-interop/packaged/lib/qat/interop/openqasm/examples/compile_oqasm_examples.sh"
   ]
  },
  {
   "cell_type": "markdown",
   "metadata": {},
   "source": [
    "## Recovering circuits directly\n",
    "\n",
    "It is also possible to use the parser's commands to directly parse a string and recover the QLM circuit object in python for\n",
    "further use. \n",
    "\n",
    "Note: This however doesn't thoroughly process _include_ statements, because those are done with the binary.\n",
    "\n"
   ]
  },
  {
   "cell_type": "code",
   "execution_count": 4,
   "metadata": {},
   "outputs": [
    {
     "name": "stdout",
     "output_type": "stream",
     "text": [
      "Gate D-S with params [] on qubits [1] and cbits None\n",
      "Gate X with params [] on qubits [1] and cbits None\n",
      "Gate X with params [] on qubits [5] and cbits None\n",
      "Gate X with params [] on qubits [6] and cbits None\n",
      "Gate X with params [] on qubits [7] and cbits None\n",
      "Gate X with params [] on qubits [8] and cbits None\n",
      "Gate CNOT with params [] on qubits [1, 5] and cbits None\n",
      "Gate CNOT with params [] on qubits [1, 0] and cbits None\n",
      "Gate CCNOT with params [] on qubits [0, 5, 1] and cbits None\n",
      "Gate CNOT with params [] on qubits [2, 6] and cbits None\n",
      "Gate CNOT with params [] on qubits [2, 1] and cbits None\n",
      "Gate CCNOT with params [] on qubits [1, 6, 2] and cbits None\n",
      "Gate CNOT with params [] on qubits [3, 7] and cbits None\n",
      "Gate CNOT with params [] on qubits [3, 2] and cbits None\n",
      "Gate CCNOT with params [] on qubits [2, 7, 3] and cbits None\n",
      "Gate CNOT with params [] on qubits [4, 8] and cbits None\n",
      "Gate CNOT with params [] on qubits [4, 3] and cbits None\n",
      "Gate CCNOT with params [] on qubits [3, 8, 4] and cbits None\n",
      "Gate CNOT with params [] on qubits [4, 9] and cbits None\n",
      "Gate CCNOT with params [] on qubits [3, 8, 4] and cbits None\n",
      "Gate CNOT with params [] on qubits [4, 3] and cbits None\n",
      "Gate CNOT with params [] on qubits [3, 8] and cbits None\n",
      "Gate CCNOT with params [] on qubits [2, 7, 3] and cbits None\n",
      "Gate CNOT with params [] on qubits [3, 2] and cbits None\n",
      "Gate CNOT with params [] on qubits [2, 7] and cbits None\n",
      "Gate CCNOT with params [] on qubits [1, 6, 2] and cbits None\n",
      "Gate CNOT with params [] on qubits [2, 1] and cbits None\n",
      "Gate CNOT with params [] on qubits [1, 6] and cbits None\n",
      "Gate CCNOT with params [] on qubits [0, 5, 1] and cbits None\n",
      "Gate CNOT with params [] on qubits [1, 0] and cbits None\n",
      "Gate CNOT with params [] on qubits [0, 5] and cbits None\n"
     ]
    }
   ],
   "source": [
    "from qat.interop.openqasm.qasm_parser import OqasmParser\n",
    "\n",
    "# We will use the adder openqasm example from github\n",
    "\n",
    "file = open(\"/home/reda/bsm/openqlm-interop/packaged/lib/qat/interop/openqasm/examples/adder.qasm\")\n",
    "data = file.read()\n",
    "\n",
    "# Building our parser\n",
    "\n",
    "oq_parser = OqasmParser()\n",
    "oq_parser.build()\n",
    "\n",
    "# Parsing\n",
    "\n",
    "oq_parser.parse(data)\n",
    "\n",
    "qlm_circuit = oq_parser.compiler.gen_circuit()\n",
    "\n",
    "from qat.core.util import extract_syntax\n",
    "\n",
    "for op in qlm_circuit.ops:\n",
    "    print(\"Gate {} with params {} on qubits {} and cbits {}\".format(*extract_syntax(qlm_circuit.gateDic[op.gate]\n",
    "                                                                                   , qlm_circuit.gateDic),\n",
    "                                                                    op.qbits, op.cbits))\n"
   ]
  }
 ],
 "metadata": {
  "kernelspec": {
   "display_name": "Python 3",
   "language": "python",
   "name": "python3"
  },
  "language_info": {
   "codemirror_mode": {
    "name": "ipython",
    "version": 3
   },
   "file_extension": ".py",
   "mimetype": "text/x-python",
   "name": "python",
   "nbconvert_exporter": "python",
   "pygments_lexer": "ipython3",
   "version": "3.6.8"
  }
 },
 "nbformat": 4,
 "nbformat_minor": 2
}
