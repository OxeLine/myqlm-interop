{
 "cells": [
  {
   "cell_type": "markdown",
   "metadata": {},
   "source": [
    "# Cirq Tutorials\n",
    "\n",
    "With cirq we only have the function to convert a cirq circuit to a QLM circuit, and no providers nor algorithms, because cirq\n",
    "doesn't offer the interface for that.\n",
    "\n",
    "Cirq has a special feature allowing users to put arbitrary real powers of gates into circuits.\n",
    "\n",
    "Not all gate support all powers in this conversion:\n",
    "\n",
    "\n",
    "Gates supporting arbitrary real powers (all of these gates daggers and controls are also supported in power mode):\n",
    "- X, Y, Z\n",
    "- RX, RY, RZ\n",
    "- XX, YY, ZZ\n",
    "- RXX, RYY, RZZ\n",
    "- PH\n",
    "- S, T\n",
    "\n",
    "Gates supporting integer powers (all of these gates daggers and controls are also supported in power mode):\n",
    "- H\n",
    "- SWAP (also supports square roots +/- 0.5)\n",
    "- iSWAP\n",
    "\n",
    "\n",
    "## Cirq to qlm conversion\n",
    "\n",
    "Below we use an example showing the usage of arbitrary powers \n"
   ]
  },
  {
   "cell_type": "code",
   "execution_count": 1,
   "metadata": {},
   "outputs": [
    {
     "name": "stdout",
     "output_type": "stream",
     "text": [
      "Gate RX with params [-11.529645038674541] on qbits [0]\n",
      "Gate RY with params [24.818581963359367] on qbits [0]\n",
      "Gate RZ with params [7.024814731040727] on qbits [0]\n",
      "Gate RZ with params [-4.934802200544679] on qbits [0]\n",
      "Gate RZ with params [-0.38943287975581903] on qbits [0]\n",
      "Gate SQRTSWAP with params [] on qbits [0, 1]\n"
     ]
    }
   ],
   "source": [
    "import cirq\n",
    "import cirq.ops.common_gates as g_ops\n",
    "from qat.interop.cirq.converters import to_qlm_circ\n",
    "from numpy import sqrt, pi\n",
    "\n",
    "gcirq = cirq.Circuit()\n",
    "qreg = [cirq.LineQubit(i) for i in range(5)]\n",
    "\n",
    "gcirq.append(g_ops.X(qreg[0]) ** -3.67)\n",
    "gcirq.append(g_ops.Y(qreg[0]) ** 7.9)\n",
    "gcirq.append(g_ops.Z(qreg[0]) ** (sqrt(5)))\n",
    "gcirq.append(g_ops.S(qreg[0]) ** -pi)\n",
    "gcirq.append(g_ops.T(qreg[0]) ** (sqrt(7)-pi))\n",
    "gcirq.append(g_ops.SWAP(qreg[0], qreg[1]) ** -0.5)\n",
    "gcirq.append(g_ops.ISWAP(qreg[0], qreg[1]) ** 16.0)\n",
    "\n",
    "# to obtain non separated measures we either use the sep_measure optional parameter, (this is the default behavior)\n",
    "qlm_circuit = to_qlm_circ(gcirq, sep_measure=False)\n",
    "\n",
    "# previous instruction is equivalent to this one\n",
    "\n",
    "qlm_circuit = to_qlm_circ(gcirq)\n",
    "\n",
    "from qat.core.util import extract_syntax\n",
    "\n",
    "for entry in qlm_circuit.ops:\n",
    "    print(\"Gate {} with params {} on qbits {}\"\n",
    "          .format(*extract_syntax(qlm_circuit.gateDic[entry.gate],\n",
    "                                qlm_circuit.gateDic), entry.qbits))\n",
    "\n",
    "# in order to separate measures we can use\n",
    "\n",
    "qlm_circuit, to_measure = to_qlm_circ(gcirq, sep_measure=True)\n",
    "\n",
    "\n",
    "\n"
   ]
  }
 ],
 "metadata": {
  "kernelspec": {
   "display_name": "Python 3",
   "language": "python",
   "name": "python3"
  },
  "language_info": {
   "codemirror_mode": {
    "name": "ipython",
    "version": 3
   },
   "file_extension": ".py",
   "mimetype": "text/x-python",
   "name": "python",
   "nbconvert_exporter": "python",
   "pygments_lexer": "ipython3",
   "version": "3.6.8"
  }
 },
 "nbformat": 4,
 "nbformat_minor": 2
}
