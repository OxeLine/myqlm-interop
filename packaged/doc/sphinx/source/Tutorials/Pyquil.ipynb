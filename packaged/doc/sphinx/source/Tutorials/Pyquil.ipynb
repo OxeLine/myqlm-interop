{
 "cells": [
  {
   "cell_type": "markdown",
   "metadata": {},
   "source": [
    "# Pyquil Tutorials\n",
    "\n",
    "We have made a binder that converts QLM circuits into pyquil circuits, we have also made the `PyquilQPU` class which is a qpu wrapper around pyquil's simulator/real chip which takes QLM jobs, converts them to pyquil jobs, executes them on a pyquil simulator/real quantum chip, then returns a QLM Result.\n",
    "\n",
    "## QLM to Pyquil conversion\n",
    "\n",
    "A function that converts a QLM circuit into a pyquil circuit"
   ]
  },
  {
   "cell_type": "code",
   "execution_count": 1,
   "metadata": {},
   "outputs": [
    {
     "name": "stderr",
     "output_type": "stream",
     "text": [
      "/usr/local/lib/python3.6/site-packages/ipykernel_launcher.py:16: DeprecationWarning: Use importlib.util.find_spec() instead.\n",
      "  app.launch_new_instance()\n"
     ]
    }
   ],
   "source": [
    "from qat.interop.pyquil.converters import to_pyquil_circ\n",
    "from qat.lang.AQASM import Program\n",
    "from qat.lang.AQASM.gates import *\n",
    "\n",
    "nbqubits = 2\n",
    "\n",
    "prog = Program()\n",
    "\n",
    "qreg = prog.qalloc(nbqubits)\n",
    "creg = prog.calloc(nbqubits)\n",
    "\n",
    "prog.apply(H, qreg[0])\n",
    "prog.apply(CNOT, qreg[0], qreg[1])\n",
    "\n",
    "prog.measure(qreg, creg)\n",
    "qlm_circuit = prog.to_circ()\n",
    "\n",
    "# Conversion\n",
    "pyquil_circuit = to_pyquil_circ(qlm_circuit)"
   ]
  },
  {
   "cell_type": "markdown",
   "metadata": {},
   "source": [
    "## PyquilQPU\n",
    "\n",
    "The wrapper around whatever pyquil simulator or quantum chip you wish to use.\n",
    "In this example we use the [qvm](https://github.com/rigetti/qvm) we have running as server. We used this same method to show the qiskit connector working with pyquilqpu to execute qiskit code on pyquil's qvm and retrieving the result in QLM format."
   ]
  },
  {
   "cell_type": "code",
   "execution_count": 1,
   "metadata": {},
   "outputs": [
    {
     "name": "stdout",
     "output_type": "stream",
     "text": [
      "State: |11>\t probability: 1.0\n"
     ]
    },
    {
     "name": "stderr",
     "output_type": "stream",
     "text": [
      "/usr/local/lib/python3.6/site-packages/ipykernel_launcher.py:18: DeprecationWarning: Use importlib.util.find_spec() instead.\n"
     ]
    }
   ],
   "source": [
    "from qat.interop.pyquil.providers import PyquilQPU\n",
    "from qat.lang.AQASM import Program\n",
    "from qat.lang.AQASM.gates import *\n",
    "\n",
    "from pyquil.api import QVMConnection\n",
    "\n",
    "nbqubits = 2\n",
    "\n",
    "prog = Program()\n",
    "\n",
    "qreg = prog.qalloc(nbqubits)\n",
    "creg = prog.calloc(nbqubits)\n",
    "\n",
    "prog.apply(H, qreg[0])\n",
    "prog.apply(CNOT, qreg[0], qreg[1])\n",
    "\n",
    "prog.measure(qreg, creg)\n",
    "qlm_circuit = prog.to_circ()\n",
    "\n",
    "qlm_job = qlm_circuit.to_job(nbshots=1024)\n",
    "\n",
    "qvm = QVMConnection(endpoint='http://127.0.0.1:15011')\n",
    "\n",
    "qpu = PyquilQPU(qvm)\n",
    "\n",
    "result = qpu.submit(qlm_job)\n",
    "for entry in result.raw_data:\n",
    "    print(\"State: {}\\t probability: {}\".format(entry.state, entry.probability))\n"
   ]
  }
 ],
 "metadata": {
  "kernelspec": {
   "display_name": "Python 3",
   "language": "python",
   "name": "python3"
  },
  "language_info": {
   "codemirror_mode": {
    "name": "ipython",
    "version": 3
   },
   "file_extension": ".py",
   "mimetype": "text/x-python",
   "name": "python",
   "nbconvert_exporter": "python",
   "pygments_lexer": "ipython3",
   "version": "3.6.8"
  }
 },
 "nbformat": 4,
 "nbformat_minor": 2
}
