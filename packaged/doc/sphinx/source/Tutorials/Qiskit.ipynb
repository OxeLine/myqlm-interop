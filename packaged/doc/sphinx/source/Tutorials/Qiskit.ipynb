{
 "cells": [
  {
   "cell_type": "markdown",
   "metadata": {},
   "source": [
    "## Qiskit Tutorials\n",
    "\n",
    "Starting with Qiskit let's see how we can use the binders\n",
    "\n",
    "\n",
    "### QLM to Qiskit conversion\n",
    "\n",
    "We'll start with QLM to Qiskit conversion"
   ]
  },
  {
   "cell_type": "code",
   "execution_count": 2,
   "metadata": {},
   "outputs": [],
   "source": [
    "from qat.interop.qiskit.converters import to_qiskit_circ\n",
    "from qat.lang.AQASM import Program\n",
    "from qat.lang.AQASM.gates import *\n",
    "\n",
    "nbqubits = 2\n",
    "\n",
    "prog = Program()\n",
    "\n",
    "qreg = prog.qalloc(nbqubits)\n",
    "creg = prog.calloc(nbqubits)\n",
    "\n",
    "prog.apply(H, qreg[0])\n",
    "prog.apply(CNOT, qreg[0], qreg[1])\n",
    "\n",
    "prog.measure(qreg, creg)\n",
    "qlm_circuit = prog.to_circ()\n",
    "\n",
    "# Conversion\n",
    "qiskit_circuit = to_qiskit_circ(qlm_circuit)\n"
   ]
  },
  {
   "cell_type": "markdown",
   "metadata": {},
   "source": [
    "### Qiskit to QLM conversion\n",
    "\n",
    "This conversion is going to be similar with every other language, the function `to_qlm_circ` is going to be the same for \n",
    "the other languages with two parameters: the circuit, and a boolean `sep_measure` if set to `True` it will return the qubits \n",
    "to measure separately for the user to measure them manually.\n",
    "A tuple of 2 elements is then returned, the first element is the circuit with no measures, the second one is a list containing the qubits to be measured.\n",
    "If set to `False` (which is the default value) only the QLM circuit will be returned (with measures included inside the circuit). "
   ]
  },
  {
   "cell_type": "code",
   "execution_count": 4,
   "metadata": {},
   "outputs": [
    {
     "name": "stdout",
     "output_type": "stream",
     "text": [
      "Gate H with params [] on qbits [0]\n",
      "Gate CNOT with params [] on qbits [0, 1]\n"
     ]
    }
   ],
   "source": [
    "from qat.interop.qiskit.converters import to_qlm_circ\n",
    "from qiskit import QuantumRegister, QuantumCircuit, ClassicalRegister\n",
    "\n",
    "nbqubits = 2\n",
    "\n",
    "qreg = QuantumRegister(nbqubits)\n",
    "creg = ClassicalRegister(nbqubits)\n",
    "\n",
    "qiskit_circuit = QuantumCircuit(qreg, creg)\n",
    "\n",
    "qiskit_circuit.h(qreg[0])\n",
    "qiskit_circuit.cx(qreg[0], qreg[1])\n",
    "qiskit_circuit.measure(qreg, creg)\n",
    "\n",
    "qlm_circuit_with_measure = to_qlm_circ(qiskit_circuit, sep_measure=False)\n",
    "# This one is also equivalent because the default value of sep_measure is False\n",
    "qlm_circuit_with_measure = to_qlm_circ(qiskit_circuit)\n",
    "\n",
    "# This will return a list of qubits to measure manually as explained\n",
    "qlm_circuit_without_measure, qubits_to_measure = to_qlm_circ(qiskit_circuit, sep_measure=True)\n",
    "\n",
    "from qat.core.util import extract_syntax\n",
    "\n",
    "for entry in qlm_circuit_without_measure.ops:\n",
    "    # no need to print measures\n",
    "    if entry.gate is None:\n",
    "        continue\n",
    "    print(\"Gate {} with params {} on qbits {}\"\n",
    "          .format(*extract_syntax(qlm_circuit_without_measure.gateDic[entry.gate],\n",
    "                                qlm_circuit_without_measure.gateDic), entry.qbits))"
   ]
  },
  {
   "cell_type": "markdown",
   "metadata": {},
   "source": [
    "### QiskitQPU\n",
    "\n",
    "A wrapper implementing `QPUHandler` in order to run _synchronous_ QLM circuits in qiskit backends seamlessly and without any hassle"
   ]
  },
  {
   "cell_type": "code",
   "execution_count": 1,
   "metadata": {},
   "outputs": [
    {
     "name": "stderr",
     "output_type": "stream",
     "text": [
      "/usr/local/lib/python3.6/site-packages/ipykernel_launcher.py:17: DeprecationWarning: Use importlib.util.find_spec() instead.\n"
     ]
    },
    {
     "name": "stdout",
     "output_type": "stream",
     "text": [
      "State: |11>\t probability: 1.0\n"
     ]
    }
   ],
   "source": [
    "from qat.interop.qiskit.providers import QiskitQPU\n",
    "from qiskit import Aer\n",
    "from qat.lang.AQASM import Program\n",
    "from qat.lang.AQASM.gates import *\n",
    "\n",
    "nbqubits = 2\n",
    "\n",
    "prog = Program()\n",
    "\n",
    "qreg = prog.qalloc(nbqubits)\n",
    "creg = prog.calloc(nbqubits)\n",
    "\n",
    "prog.apply(H, qreg[0])\n",
    "prog.apply(CNOT, qreg[0], qreg[1])\n",
    "\n",
    "prog.measure(qreg, creg)\n",
    "qlm_circuit = prog.to_circ()\n",
    "\n",
    "qlm_job = qlm_circuit.to_job(nbshots=1024)\n",
    "\n",
    "# Getting the qiskit backend we will use for our circuit execution\n",
    "backend = Aer.get_backend('qasm_simulator')\n",
    "\n",
    "qpu = QiskitQPU(backend)\n",
    "\n",
    "\n",
    "result = qpu.submit(qlm_job)\n",
    "for entry in result.raw_data:\n",
    "    print(\"State: {}\\t probability: {}\".format(entry.state, entry.probability))\n"
   ]
  },
  {
   "cell_type": "markdown",
   "metadata": {},
   "source": [
    "### AsyncQiskitQPU\n",
    "\n",
    "We can also have the same thing but this time with an asynchronous qiskit qpu, this won't have the same interface as Qiskit,\n",
    "but it will have the same interface as our QLM `Asyncjob`"
   ]
  },
  {
   "cell_type": "code",
   "execution_count": 2,
   "metadata": {},
   "outputs": [
    {
     "name": "stdout",
     "output_type": "stream",
     "text": [
      "ID: 0daf18b7-bb24-45c3-a37a-cee675a44e33\t status : INITIALIZING\n",
      "ID: 0daf18b7-bb24-45c3-a37a-cee675a44e33\t status : RUNNING\n",
      "ID: 0daf18b7-bb24-45c3-a37a-cee675a44e33\t status : DONE\n",
      "State: |0>\t probability: 1.0\n"
     ]
    }
   ],
   "source": [
    "from qat.interop.qiskit.providers import AsyncQiskitQPU\n",
    "from qiskit import Aer\n",
    "from qat.lang.AQASM import Program\n",
    "from qat.lang.AQASM.gates import *\n",
    "import time\n",
    "nbqubits = 2\n",
    "\n",
    "prog = Program()\n",
    "\n",
    "qreg = prog.qalloc(nbqubits)\n",
    "creg = prog.calloc(nbqubits)\n",
    "\n",
    "prog.apply(H, qreg[0])\n",
    "prog.apply(CNOT, qreg[0], qreg[1])\n",
    "\n",
    "prog.measure(qreg, creg)\n",
    "qlm_circuit = prog.to_circ()\n",
    "\n",
    "qlm_job = qlm_circuit.to_job(nbshots=1024)\n",
    "\n",
    "# Getting the qiskit backend we will use for our circuit execution\n",
    "backend = Aer.get_backend('qasm_simulator')\n",
    "\n",
    "qpu = AsyncQiskitQPU(backend)\n",
    "\n",
    "async_job = qpu.submit_job(qlm_job)\n",
    "\n",
    "print(\"ID: {}\\t status : {}\".format(async_job.job_id(), async_job.status()))\n",
    "time.sleep(0.01)\n",
    "print(\"ID: {}\\t status : {}\".format(async_job.job_id(), async_job.status()))\n",
    "time.sleep(0.2)\n",
    "print(\"ID: {}\\t status : {}\".format(async_job.job_id(), async_job.status()))\n",
    "result = async_job.result()\n",
    "for entry in result.raw_data:\n",
    "    print(\"State: {}\\t probability: {}\".format(entry.state, entry.probability))"
   ]
  },
  {
   "cell_type": "markdown",
   "metadata": {},
   "source": [
    "### QLMBackend\n",
    "\n",
    "We have implemented a qiskit style backend, that can be plugged seamlessly into qiskit's ecosystem. With this you can simulate qiskit circuits with any simulator you want that's available in the QLM (this of course includes other simulators like pyquil)"
   ]
  },
  {
   "cell_type": "code",
   "execution_count": 3,
   "metadata": {
    "scrolled": false
   },
   "outputs": [
    {
     "name": "stderr",
     "output_type": "stream",
     "text": [
      "/usr/local/lib/python3.6/site-packages/ipykernel_launcher.py:2: DeprecationWarning: Use importlib.util.find_spec() instead.\n",
      "  \n",
      "/home/reda/.local/lib/python3.6/site-packages/qiskit/converters/qobj_to_circuits.py:34: DeprecationWarning: qiskit.converters.qobj_to_circuit() is deprecated and will be removed in Qiskit Terra 0.9. Please use qiskit.compiler.disassemble_circuits() to convert a qobj to list of circuits.\n",
      "  'to list of circuits.', DeprecationWarning)\n"
     ]
    },
    {
     "name": "stdout",
     "output_type": "stream",
     "text": [
      "State: |0>\t probability: 0.5333333333333333\n",
      "State: |11>\t probability: 0.4666666666666667\n"
     ]
    }
   ],
   "source": [
    "from qat.interop.qiskit.providers import QLMBackend\n",
    "from qat.linalg import LinAlg\n",
    "from qiskit import QuantumRegister, QuantumCircuit, ClassicalRegister, execute\n",
    "from qat.comm.shared.ttypes import Batch\n",
    "nbqubits = 2\n",
    "\n",
    "qreg = QuantumRegister(nbqubits)\n",
    "creg = ClassicalRegister(nbqubits)\n",
    "\n",
    "qiskit_circuit = QuantumCircuit(qreg, creg)\n",
    "\n",
    "qiskit_circuit.h(qreg[0])\n",
    "qiskit_circuit.cx(qreg[0], qreg[1])\n",
    "qiskit_circuit.measure(qreg, creg)\n",
    "\n",
    "\n",
    "qpu = LinAlg()\n",
    "backend = QLMBackend()\n",
    "backend.set_qpu(qpu)\n",
    "\n",
    "result = execute(qiskit_circuit, backend, shots=15).result()\n",
    "\n",
    "from qat.interop.qiskit.providers import generate_qlm_result\n",
    "\n",
    "qlm_result = generate_qlm_result(result)\n",
    "    \n",
    "for entry in qlm_result.raw_data:\n",
    "     print(\"State: {}\\t probability: {}\".format(entry.state, entry.probability))"
   ]
  },
  {
   "cell_type": "markdown",
   "metadata": {},
   "source": [
    "### QLMBackend using Pyquil Simulator\n",
    "\n",
    "Let us put what we hypothesized earlier to the test, this time instead of using a native QLM simulator, we will use `PyquilQPU` the qpu wrapper around pyquil's qvm.\n"
   ]
  },
  {
   "cell_type": "code",
   "execution_count": 5,
   "metadata": {
    "scrolled": true
   },
   "outputs": [
    {
     "name": "stdout",
     "output_type": "stream",
     "text": [
      "[ExperimentResult(data=ExperimentResultData(counts=Obj(0x0=1)), header=Obj(clbit_labels=[['c4', 0], ['c4', 1]], creg_sizes=[['c4', 2]], memory_slots=2, n_qubits=2, name='circuit12', qreg_sizes=[['q4', 2]], qubit_labels=[['q4', 0], ['q4', 1]]), meas_level=2, shots=1, success=True)]\n"
     ]
    },
    {
     "name": "stderr",
     "output_type": "stream",
     "text": [
      "/home/reda/.local/lib/python3.6/site-packages/qiskit/converters/qobj_to_circuits.py:34: DeprecationWarning: qiskit.converters.qobj_to_circuit() is deprecated and will be removed in Qiskit Terra 0.9. Please use qiskit.compiler.disassemble_circuits() to convert a qobj to list of circuits.\n",
      "  'to list of circuits.', DeprecationWarning)\n"
     ]
    }
   ],
   "source": [
    "from qat.interop.qiskit.providers import QLMConnector\n",
    "from qat.interop.pyquil.providers import PyquilQPU\n",
    "from qiskit import QuantumRegister, QuantumCircuit, ClassicalRegister, execute\n",
    "from pyquil.api import QVMConnection\n",
    "nbqubits = 2\n",
    "\n",
    "qreg = QuantumRegister(nbqubits)\n",
    "creg = ClassicalRegister(nbqubits)\n",
    "\n",
    "qiskit_circuit = QuantumCircuit(qreg, creg)\n",
    "\n",
    "qiskit_circuit.h(qreg[0])\n",
    "qiskit_circuit.cx(qreg[0], qreg[1])\n",
    "qiskit_circuit.measure(qreg, creg)\n",
    "\n",
    "# Connection to the qvm running as server\n",
    "qvm = QVMConnection(endpoint=\"http://127.0.0.1:15011\")\n",
    "\n",
    "\n",
    "# Building the backend while using qiskit backend as a plugin\n",
    "backend = QLMConnector | PyquilQPU(qvm)\n",
    "\n",
    "# This result is in qiskit form since it was executed on qiskit\n",
    "result = execute(qiskit_circuit, backend, shots=1024).result()\n",
    "\n",
    "print(result.results)"
   ]
  },
  {
   "cell_type": "code",
   "execution_count": null,
   "metadata": {},
   "outputs": [],
   "source": []
  },
  {
   "cell_type": "code",
   "execution_count": null,
   "metadata": {},
   "outputs": [],
   "source": []
  }
 ],
 "metadata": {
  "kernelspec": {
   "display_name": "Python 3",
   "language": "python",
   "name": "python3"
  },
  "language_info": {
   "codemirror_mode": {
    "name": "ipython",
    "version": 3
   },
   "file_extension": ".py",
   "mimetype": "text/x-python",
   "name": "python",
   "nbconvert_exporter": "python",
   "pygments_lexer": "ipython3",
   "version": "3.6.8"
  }
 },
 "nbformat": 4,
 "nbformat_minor": 2
}
